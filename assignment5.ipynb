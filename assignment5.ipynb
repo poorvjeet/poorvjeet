{
  "nbformat": 4,
  "nbformat_minor": 0,
  "metadata": {
    "colab": {
      "provenance": [],
      "authorship_tag": "ABX9TyNMMThqYihVPSST0mEOR90r",
      "include_colab_link": true
    },
    "kernelspec": {
      "name": "python3",
      "display_name": "Python 3"
    },
    "language_info": {
      "name": "python"
    }
  },
  "cells": [
    {
      "cell_type": "markdown",
      "metadata": {
        "id": "view-in-github",
        "colab_type": "text"
      },
      "source": [
        "<a href=\"https://colab.research.google.com/github/poorvjeet/poorvjeet/blob/main/assignment5.ipynb\" target=\"_parent\"><img src=\"https://colab.research.google.com/assets/colab-badge.svg\" alt=\"Open In Colab\"/></a>"
      ]
    },
    {
      "cell_type": "code",
      "execution_count": 4,
      "metadata": {
        "colab": {
          "base_uri": "https://localhost:8080/"
        },
        "id": "TKeMJWxNo6le",
        "outputId": "26c51c64-7abe-4929-847b-2e732ce68494"
      },
      "outputs": [
        {
          "output_type": "stream",
          "name": "stdout",
          "text": [
            "b is greater than a\n"
          ]
        }
      ],
      "source": [
        "# if statement\n",
        "a = 23\n",
        "b = 43\n",
        "\n",
        "if b > a:\n",
        "  print(\"b is greater than a\")"
      ]
    },
    {
      "cell_type": "code",
      "source": [
        "#if- else statement\n",
        "a = 23\n",
        "b = 43\n",
        "\n",
        "if b > a:\n",
        "  print(\"b is greater than a\")\n",
        "else:\n",
        "  print(\"b is not greater than a\")"
      ],
      "metadata": {
        "colab": {
          "base_uri": "https://localhost:8080/"
        },
        "id": "wMQsHKkYqbuP",
        "outputId": "35f12152-5f0e-4eee-e9bf-ec2b9fd09e0a"
      },
      "execution_count": 5,
      "outputs": [
        {
          "output_type": "stream",
          "name": "stdout",
          "text": [
            "b is greater than a\n"
          ]
        }
      ]
    },
    {
      "cell_type": "code",
      "source": [
        "#if-elif-else atatement\n",
        "a = 23\n",
        "b = 43\n",
        "\n",
        "if b > a:\n",
        "  print(\"b is greater than a\")\n",
        "elif a == b:\n",
        "  print(\"a and b are equal\")\n",
        "else:\n",
        "  print(\"a is greater than b\")"
      ],
      "metadata": {
        "colab": {
          "base_uri": "https://localhost:8080/"
        },
        "id": "jSbb2g6Xqbxb",
        "outputId": "f38bd47e-d2c1-4ab8-98f3-87a1569eef4d"
      },
      "execution_count": 6,
      "outputs": [
        {
          "output_type": "stream",
          "name": "stdout",
          "text": [
            "b is greater than a\n"
          ]
        }
      ]
    },
    {
      "cell_type": "code",
      "source": [
        "#create and access tuple\n",
        "my_tupple = (\"apple\", \"banana\", \"cherry\")\n",
        "print(my_tupple[1])"
      ],
      "metadata": {
        "colab": {
          "base_uri": "https://localhost:8080/"
        },
        "id": "TCslR1BLqbzf",
        "outputId": "15fa22e4-ae7c-45bd-e267-8bc7149960c4"
      },
      "execution_count": 7,
      "outputs": [
        {
          "output_type": "stream",
          "name": "stdout",
          "text": [
            "banana\n"
          ]
        }
      ]
    },
    {
      "cell_type": "code",
      "source": [
        "#Tuple with One Item\n",
        "\n",
        "my_tuple = (\"apple\",)\n",
        "print(type(my_tuple))\n"
      ],
      "metadata": {
        "colab": {
          "base_uri": "https://localhost:8080/"
        },
        "id": "4cbYw6fwqb1u",
        "outputId": "e0a697fa-3e26-4ac9-945d-f17a179ad1b6"
      },
      "execution_count": 9,
      "outputs": [
        {
          "output_type": "stream",
          "name": "stdout",
          "text": [
            "<class 'tuple'>\n"
          ]
        }
      ]
    },
    {
      "cell_type": "code",
      "source": [
        "#Check if Item Exists in Tuple\n",
        "my_tuple = (\"apple\", \"banana\", \"cherry\")\n",
        "if \"apple\" in my_tuple:\n",
        "  print(\"Yes, 'apple' is in the fruits tuple\")"
      ],
      "metadata": {
        "colab": {
          "base_uri": "https://localhost:8080/"
        },
        "id": "jECVyR_Xqb39",
        "outputId": "98986879-ad80-4ebf-dc60-55e6e5d9dffa"
      },
      "execution_count": 10,
      "outputs": [
        {
          "output_type": "stream",
          "name": "stdout",
          "text": [
            "Yes, 'apple' is in the fruits tuple\n"
          ]
        }
      ]
    },
    {
      "cell_type": "code",
      "source": [
        "#Convert Tuple to List and Modify\n",
        "my_tuple = (\"apple\", \"banana\", \"cherry\")\n",
        "my_list = list(my_tuple)\n",
        "my_list[1] = \"kiwi\"\n",
        "my_tuple = tuple(my_list)\n",
        "print(my_tuple)"
      ],
      "metadata": {
        "colab": {
          "base_uri": "https://localhost:8080/"
        },
        "id": "439IfeV3qb6J",
        "outputId": "54442b88-a1a2-4e2e-dab2-3603b6dc8285"
      },
      "execution_count": 11,
      "outputs": [
        {
          "output_type": "stream",
          "name": "stdout",
          "text": [
            "('apple', 'kiwi', 'cherry')\n"
          ]
        }
      ]
    },
    {
      "cell_type": "code",
      "source": [
        "# add & remove item in set\n",
        "my_set={\"apple\",\"banana\",\"cherry\"}\n",
        "\n",
        "my_set.add(\"orange\")\n",
        "\n",
        "my_set.remove(\"banana\")\n",
        "print(my_set)"
      ],
      "metadata": {
        "colab": {
          "base_uri": "https://localhost:8080/"
        },
        "id": "6fBDPn-Zqb8N",
        "outputId": "d50dac6e-263f-45b3-9426-41834a5ee629"
      },
      "execution_count": 2,
      "outputs": [
        {
          "output_type": "stream",
          "name": "stdout",
          "text": [
            "{'orange', 'apple', 'cherry'}\n"
          ]
        }
      ]
    },
    {
      "cell_type": "code",
      "source": [
        "#Loop Through Tuple\n",
        "my_tuple = (\"apple\", \"banana\", \"cherry\")\n",
        "for x in my_tuple:\n",
        "  print(x)\n",
        "\n"
      ],
      "metadata": {
        "colab": {
          "base_uri": "https://localhost:8080/"
        },
        "id": "cELLH0f1qb-o",
        "outputId": "99677aa1-e673-45b1-a7f8-0bb12141fb3a"
      },
      "execution_count": 3,
      "outputs": [
        {
          "output_type": "stream",
          "name": "stdout",
          "text": [
            "apple\n",
            "banana\n",
            "cherry\n"
          ]
        }
      ]
    },
    {
      "cell_type": "code",
      "source": [],
      "metadata": {
        "id": "gHLfHAGzqcAv"
      },
      "execution_count": null,
      "outputs": []
    }
  ]
}