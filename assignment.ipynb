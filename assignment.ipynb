{
  "nbformat": 4,
  "nbformat_minor": 0,
  "metadata": {
    "colab": {
      "provenance": [],
      "authorship_tag": "ABX9TyPBn5WqDO6LEjzMElXCSqRH",
      "include_colab_link": true
    },
    "kernelspec": {
      "name": "python3",
      "display_name": "Python 3"
    },
    "language_info": {
      "name": "python"
    }
  },
  "cells": [
    {
      "cell_type": "markdown",
      "metadata": {
        "id": "view-in-github",
        "colab_type": "text"
      },
      "source": [
        "<a href=\"https://colab.research.google.com/github/poorvjeet/poorvjeet/blob/main/assignment.ipynb\" target=\"_parent\"><img src=\"https://colab.research.google.com/assets/colab-badge.svg\" alt=\"Open In Colab\"/></a>"
      ]
    },
    {
      "cell_type": "code",
      "execution_count": null,
      "metadata": {
        "id": "nG17gUsiu-eX"
      },
      "outputs": [],
      "source": []
    },
    {
      "cell_type": "code",
      "source": [
        "#greater than\n",
        "print(5<10)\n",
        "print(\"kiwi\"<\"apple\")\n"
      ],
      "metadata": {
        "colab": {
          "base_uri": "https://localhost:8080/"
        },
        "id": "PkVv9phtwlAJ",
        "outputId": "fc38a721-9426-4bd5-b865-cec85ab29fe1"
      },
      "execution_count": 1,
      "outputs": [
        {
          "output_type": "stream",
          "name": "stdout",
          "text": [
            "True\n",
            "False\n"
          ]
        }
      ]
    },
    {
      "cell_type": "code",
      "source": [
        "#lesser than\n",
        "print(555>666)\n",
        "print(\"dog\">\"cat\")"
      ],
      "metadata": {
        "colab": {
          "base_uri": "https://localhost:8080/"
        },
        "id": "CL0bRYNTxT3j",
        "outputId": "a2b5bafe-c8fd-42d9-e12b-f98dddbec271"
      },
      "execution_count": 2,
      "outputs": [
        {
          "output_type": "stream",
          "name": "stdout",
          "text": [
            "False\n",
            "True\n"
          ]
        }
      ]
    },
    {
      "cell_type": "code",
      "source": [
        "#equal to\n",
        "print(1010==1010)\n",
        "print(\"rain\"==\"rain\")"
      ],
      "metadata": {
        "colab": {
          "base_uri": "https://localhost:8080/"
        },
        "id": "-dyc0Iqexvwu",
        "outputId": "b5868bd9-dfec-442d-d292-5a887a64c8e7"
      },
      "execution_count": 3,
      "outputs": [
        {
          "output_type": "stream",
          "name": "stdout",
          "text": [
            "True\n",
            "True\n"
          ]
        }
      ]
    },
    {
      "cell_type": "code",
      "source": [
        "#not equal to\n",
        "print(1010!=2020)\n",
        "print(\"rain\"!=\"snow\")"
      ],
      "metadata": {
        "colab": {
          "base_uri": "https://localhost:8080/"
        },
        "id": "mMqAUKocyE7Q",
        "outputId": "ad284185-aede-421d-d588-b0b145764ab6"
      },
      "execution_count": 4,
      "outputs": [
        {
          "output_type": "stream",
          "name": "stdout",
          "text": [
            "True\n",
            "True\n"
          ]
        }
      ]
    },
    {
      "cell_type": "code",
      "source": [
        "my_string = \"Python Is Powerfull language\"\n",
        "\n",
        "# Check for the presence of a substring using 'in'\n",
        "print(\"Is 'Python' in the string?\", \"Python\" in my_string)\n",
        "print(\"Is 'Java' in the string?\", \"Java\" in my_string)\n",
        "\n",
        "# Check for the absence of a substring using 'not in'\n",
        "print(\"Is 'Python' not in the string?\", \"Python\" not in my_string)\n",
        "print(\"Is 'Java' not in the string?\", \"Java\" not in my_string)\n"
      ],
      "metadata": {
        "colab": {
          "base_uri": "https://localhost:8080/"
        },
        "id": "BIhIhF_eyR_U",
        "outputId": "a8c7fd21-b1af-4776-c403-d3a28bf043e3"
      },
      "execution_count": 5,
      "outputs": [
        {
          "output_type": "stream",
          "name": "stdout",
          "text": [
            "Is 'Python' in the string? True\n",
            "Is 'Java' in the string? False\n",
            "Is 'Python' not in the string? False\n",
            "Is 'Java' not in the string? True\n"
          ]
        }
      ]
    },
    {
      "cell_type": "code",
      "source": [
        "list=['apple','banana','mango','pinapple']\n",
        "for x in list:\n",
        "    print(x)"
      ],
      "metadata": {
        "colab": {
          "base_uri": "https://localhost:8080/"
        },
        "id": "paiHk2_l30xc",
        "outputId": "e4c1dca5-b145-4e94-9d16-d4144d8052d1"
      },
      "execution_count": 7,
      "outputs": [
        {
          "output_type": "stream",
          "name": "stdout",
          "text": [
            "apple\n",
            "banana\n",
            "mango\n",
            "pinapple\n"
          ]
        }
      ]
    },
    {
      "cell_type": "code",
      "source": [
        "for x in range(10, 0, -1):\n",
        "    print(x)"
      ],
      "metadata": {
        "colab": {
          "base_uri": "https://localhost:8080/"
        },
        "id": "zokCG0PY5Fio",
        "outputId": "3fde22d0-ddc7-4fdf-9cdb-2f8e35623a5a"
      },
      "execution_count": 15,
      "outputs": [
        {
          "output_type": "stream",
          "name": "stdout",
          "text": [
            "10\n",
            "9\n",
            "8\n",
            "7\n",
            "6\n",
            "5\n",
            "4\n",
            "3\n",
            "2\n",
            "1\n"
          ]
        }
      ]
    },
    {
      "cell_type": "code",
      "source": [
        "my_string=\"Happy birthday!\"\n",
        "\n",
        "#slicing\n",
        "print(\"original string:\", my_string)\n",
        "print(\"sliced string(2 to 5)\", my_string[2:5])"
      ],
      "metadata": {
        "colab": {
          "base_uri": "https://localhost:8080/"
        },
        "id": "sZPk7yG_6IEp",
        "outputId": "793ba957-42a6-4b26-9b1e-729e2732702d"
      },
      "execution_count": 18,
      "outputs": [
        {
          "output_type": "stream",
          "name": "stdout",
          "text": [
            "original string: Happy birthday!\n",
            "sliced string(2 to 5) ppy\n"
          ]
        }
      ]
    },
    {
      "cell_type": "code",
      "source": [
        "#negative indexing\n",
        "print(\"character at index-2:\" , my_string[-2])"
      ],
      "metadata": {
        "colab": {
          "base_uri": "https://localhost:8080/"
        },
        "id": "VjEzhR3Y6-td",
        "outputId": "1af0d2a9-980f-456e-b25b-913ef2d5ad18"
      },
      "execution_count": 20,
      "outputs": [
        {
          "output_type": "stream",
          "name": "stdout",
          "text": [
            "character at index-2: y\n"
          ]
        }
      ]
    },
    {
      "cell_type": "code",
      "source": [
        "#converting uppercase\n",
        "print(\"uppercase string:\" , my_string.upper())"
      ],
      "metadata": {
        "colab": {
          "base_uri": "https://localhost:8080/"
        },
        "id": "mwWX_SAE7WIo",
        "outputId": "d7d59329-ff9d-442a-e6f5-eee80fb785f4"
      },
      "execution_count": 21,
      "outputs": [
        {
          "output_type": "stream",
          "name": "stdout",
          "text": [
            "uppercase string: HAPPY BIRTHDAY!\n"
          ]
        }
      ]
    },
    {
      "cell_type": "code",
      "source": [
        "#converting lowercase\n",
        "print (\"lowercase string:\" , my_string.lower())"
      ],
      "metadata": {
        "colab": {
          "base_uri": "https://localhost:8080/"
        },
        "id": "HtE84A7h7fw3",
        "outputId": "f68c080a-3eb4-4461-cfd3-a28f96ce7b51"
      },
      "execution_count": 23,
      "outputs": [
        {
          "output_type": "stream",
          "name": "stdout",
          "text": [
            "lowercase string: happy birthday!\n"
          ]
        }
      ]
    },
    {
      "cell_type": "code",
      "source": [
        "#stripping string\n",
        "print(\"stripped string:\" , my_string.strip())"
      ],
      "metadata": {
        "colab": {
          "base_uri": "https://localhost:8080/"
        },
        "id": "bxdVEo38-C0y",
        "outputId": "48b9e51f-3286-4405-e13c-1e25c163bfcd"
      },
      "execution_count": 25,
      "outputs": [
        {
          "output_type": "stream",
          "name": "stdout",
          "text": [
            "stripped string: Happy birthday!\n"
          ]
        }
      ]
    },
    {
      "cell_type": "code",
      "source": [],
      "metadata": {
        "id": "MS78ee91-ZL9"
      },
      "execution_count": null,
      "outputs": []
    },
    {
      "cell_type": "code",
      "source": [
        "#replacing string\n",
        "print(\"replaced string:\" , my_string.replace(\"birthday\", \"New Year\"))"
      ],
      "metadata": {
        "colab": {
          "base_uri": "https://localhost:8080/"
        },
        "id": "V8egU5nr-ZZe",
        "outputId": "2412cc49-eacb-4168-ad3e-8cfe4a2b1ebd"
      },
      "execution_count": 26,
      "outputs": [
        {
          "output_type": "stream",
          "name": "stdout",
          "text": [
            "replaced string: Happy New Year!\n"
          ]
        }
      ]
    },
    {
      "cell_type": "code",
      "source": [
        "#splitting the string\n",
        "print(\"split string:\" , my_string.split(\" \"))"
      ],
      "metadata": {
        "colab": {
          "base_uri": "https://localhost:8080/"
        },
        "id": "1AaONO66-xSZ",
        "outputId": "641756b1-de9a-4a1f-d40b-e7ed101f363e"
      },
      "execution_count": 27,
      "outputs": [
        {
          "output_type": "stream",
          "name": "stdout",
          "text": [
            "split string: ['Happy', 'birthday!']\n"
          ]
        }
      ]
    },
    {
      "cell_type": "code",
      "source": [
        "nested_list = [\n",
        "    [1, 2, 3],\n",
        "    [\"apple\", \"banana\", \"cherry\"],\n",
        "    [True, False],\n",
        "    [10.5, 20.1],\n",
        "    [None]\n",
        "]\n",
        "\n",
        "print(nested_list)"
      ],
      "metadata": {
        "colab": {
          "base_uri": "https://localhost:8080/"
        },
        "id": "-s-pz2gxEnG2",
        "outputId": "ea26e6da-86e6-4fb2-b57a-3e8bbab02da2"
      },
      "execution_count": 34,
      "outputs": [
        {
          "output_type": "stream",
          "name": "stdout",
          "text": [
            "[[1, 2, 3], ['apple', 'banana', 'cherry'], [True, False], [10.5, 20.1], [None]]\n"
          ]
        }
      ]
    }
  ]
}